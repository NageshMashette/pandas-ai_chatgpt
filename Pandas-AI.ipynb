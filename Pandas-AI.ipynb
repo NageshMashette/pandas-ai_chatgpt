{
 "cells": [
  {
   "cell_type": "code",
   "execution_count": 1,
   "id": "fcbc38f9",
   "metadata": {},
   "outputs": [
    {
     "name": "stdout",
     "output_type": "stream",
     "text": [
      "Collecting pandasai\n"
     ]
    },
    {
     "name": "stderr",
     "output_type": "stream",
     "text": [
      "ERROR: pip's dependency resolver does not currently take into account all the packages that are installed. This behaviour is the source of the following dependency conflicts.\n",
      "tfx-bsl 1.12.0 requires pandas<2,>=1.0, but you have pandas 2.0.1 which is incompatible.\n",
      "tensorflow-data-validation 1.12.0 requires pandas<2,>=1.0, but you have pandas 2.0.1 which is incompatible.\n",
      "labelme 5.0.1 requires matplotlib<3.3, but you have matplotlib 3.7.1 which is incompatible.\n",
      "\n",
      "[notice] A new release of pip is available: 23.0.1 -> 23.1.2\n",
      "[notice] To update, run: python.exe -m pip install --upgrade pip\n"
     ]
    },
    {
     "name": "stdout",
     "output_type": "stream",
     "text": [
      "  Downloading pandasai-0.2.0-py3-none-any.whl (10 kB)\n",
      "Collecting pandas<3.0.0,>=2.0.1\n",
      "  Downloading pandas-2.0.1-cp39-cp39-win_amd64.whl (10.7 MB)\n",
      "     ---------------------------------------- 10.7/10.7 MB 3.8 MB/s eta 0:00:00\n",
      "Collecting openai<0.28.0,>=0.27.5\n",
      "  Downloading openai-0.27.6-py3-none-any.whl (71 kB)\n",
      "     ---------------------------------------- 71.9/71.9 kB 2.0 MB/s eta 0:00:00\n",
      "Collecting python-dotenv<2.0.0,>=1.0.0\n",
      "  Downloading python_dotenv-1.0.0-py3-none-any.whl (19 kB)\n",
      "Collecting astor<0.9.0,>=0.8.1\n",
      "  Downloading astor-0.8.1-py2.py3-none-any.whl (27 kB)\n",
      "Collecting matplotlib<4.0.0,>=3.7.1\n",
      "  Downloading matplotlib-3.7.1-cp39-cp39-win_amd64.whl (7.6 MB)\n",
      "     ---------------------------------------- 7.6/7.6 MB 3.8 MB/s eta 0:00:00\n",
      "Collecting contourpy>=1.0.1\n",
      "  Downloading contourpy-1.0.7-cp39-cp39-win_amd64.whl (160 kB)\n",
      "     -------------------------------------- 160.2/160.2 kB 2.4 MB/s eta 0:00:00\n",
      "Requirement already satisfied: kiwisolver>=1.0.1 in c:\\users\\n72\\anaconda3\\lib\\site-packages (from matplotlib<4.0.0,>=3.7.1->pandasai) (1.3.2)\n",
      "Requirement already satisfied: cycler>=0.10 in c:\\users\\n72\\anaconda3\\lib\\site-packages (from matplotlib<4.0.0,>=3.7.1->pandasai) (0.11.0)\n",
      "Requirement already satisfied: packaging>=20.0 in c:\\users\\n72\\anaconda3\\lib\\site-packages (from matplotlib<4.0.0,>=3.7.1->pandasai) (21.3)\n",
      "Requirement already satisfied: fonttools>=4.22.0 in c:\\users\\n72\\anaconda3\\lib\\site-packages (from matplotlib<4.0.0,>=3.7.1->pandasai) (4.25.0)\n",
      "Collecting importlib-resources>=3.2.0\n",
      "  Downloading importlib_resources-5.12.0-py3-none-any.whl (36 kB)\n",
      "Requirement already satisfied: python-dateutil>=2.7 in c:\\users\\n72\\anaconda3\\lib\\site-packages (from matplotlib<4.0.0,>=3.7.1->pandasai) (2.8.2)\n",
      "Requirement already satisfied: numpy>=1.20 in c:\\users\\n72\\anaconda3\\lib\\site-packages (from matplotlib<4.0.0,>=3.7.1->pandasai) (1.21.6)\n",
      "Requirement already satisfied: pillow>=6.2.0 in c:\\users\\n72\\anaconda3\\lib\\site-packages (from matplotlib<4.0.0,>=3.7.1->pandasai) (9.0.1)\n",
      "Requirement already satisfied: pyparsing>=2.3.1 in c:\\users\\n72\\anaconda3\\lib\\site-packages (from matplotlib<4.0.0,>=3.7.1->pandasai) (3.0.4)\n",
      "Requirement already satisfied: aiohttp in c:\\users\\n72\\anaconda3\\lib\\site-packages (from openai<0.28.0,>=0.27.5->pandasai) (3.8.1)\n",
      "Requirement already satisfied: tqdm in c:\\users\\n72\\anaconda3\\lib\\site-packages (from openai<0.28.0,>=0.27.5->pandasai) (4.64.1)\n",
      "Requirement already satisfied: requests>=2.20 in c:\\users\\n72\\anaconda3\\lib\\site-packages (from openai<0.28.0,>=0.27.5->pandasai) (2.27.1)\n",
      "Requirement already satisfied: pytz>=2020.1 in c:\\users\\n72\\anaconda3\\lib\\site-packages (from pandas<3.0.0,>=2.0.1->pandasai) (2021.3)\n",
      "Requirement already satisfied: tzdata>=2022.1 in c:\\users\\n72\\anaconda3\\lib\\site-packages (from pandas<3.0.0,>=2.0.1->pandasai) (2022.7)\n",
      "Requirement already satisfied: zipp>=3.1.0 in c:\\users\\n72\\anaconda3\\lib\\site-packages (from importlib-resources>=3.2.0->matplotlib<4.0.0,>=3.7.1->pandasai) (3.7.0)\n",
      "Requirement already satisfied: six>=1.5 in c:\\users\\n72\\anaconda3\\lib\\site-packages (from python-dateutil>=2.7->matplotlib<4.0.0,>=3.7.1->pandasai) (1.15.0)\n",
      "Requirement already satisfied: charset-normalizer~=2.0.0 in c:\\users\\n72\\anaconda3\\lib\\site-packages (from requests>=2.20->openai<0.28.0,>=0.27.5->pandasai) (2.0.4)\n",
      "Requirement already satisfied: urllib3<1.27,>=1.21.1 in c:\\users\\n72\\anaconda3\\lib\\site-packages (from requests>=2.20->openai<0.28.0,>=0.27.5->pandasai) (1.26.9)\n",
      "Requirement already satisfied: certifi>=2017.4.17 in c:\\users\\n72\\anaconda3\\lib\\site-packages (from requests>=2.20->openai<0.28.0,>=0.27.5->pandasai) (2022.6.15)\n",
      "Requirement already satisfied: idna<4,>=2.5 in c:\\users\\n72\\anaconda3\\lib\\site-packages (from requests>=2.20->openai<0.28.0,>=0.27.5->pandasai) (3.3)\n",
      "Requirement already satisfied: yarl<2.0,>=1.0 in c:\\users\\n72\\anaconda3\\lib\\site-packages (from aiohttp->openai<0.28.0,>=0.27.5->pandasai) (1.6.3)\n",
      "Requirement already satisfied: async-timeout<5.0,>=4.0.0a3 in c:\\users\\n72\\anaconda3\\lib\\site-packages (from aiohttp->openai<0.28.0,>=0.27.5->pandasai) (4.0.1)\n",
      "Requirement already satisfied: frozenlist>=1.1.1 in c:\\users\\n72\\anaconda3\\lib\\site-packages (from aiohttp->openai<0.28.0,>=0.27.5->pandasai) (1.2.0)\n",
      "Requirement already satisfied: attrs>=17.3.0 in c:\\users\\n72\\anaconda3\\lib\\site-packages (from aiohttp->openai<0.28.0,>=0.27.5->pandasai) (21.4.0)\n",
      "Requirement already satisfied: multidict<7.0,>=4.5 in c:\\users\\n72\\anaconda3\\lib\\site-packages (from aiohttp->openai<0.28.0,>=0.27.5->pandasai) (5.1.0)\n",
      "Requirement already satisfied: aiosignal>=1.1.2 in c:\\users\\n72\\anaconda3\\lib\\site-packages (from aiohttp->openai<0.28.0,>=0.27.5->pandasai) (1.2.0)\n",
      "Requirement already satisfied: colorama in c:\\users\\n72\\anaconda3\\lib\\site-packages (from tqdm->openai<0.28.0,>=0.27.5->pandasai) (0.4.6)\n",
      "Requirement already satisfied: typing-extensions>=3.6.5 in c:\\users\\n72\\anaconda3\\lib\\site-packages (from async-timeout<5.0,>=4.0.0a3->aiohttp->openai<0.28.0,>=0.27.5->pandasai) (4.4.0)\n",
      "Installing collected packages: python-dotenv, importlib-resources, contourpy, astor, pandas, matplotlib, openai, pandasai\n",
      "  Attempting uninstall: pandas\n",
      "    Found existing installation: pandas 1.4.2\n",
      "    Uninstalling pandas-1.4.2:\n",
      "      Successfully uninstalled pandas-1.4.2\n",
      "  Attempting uninstall: matplotlib\n",
      "    Found existing installation: matplotlib 3.5.1\n",
      "    Uninstalling matplotlib-3.5.1:\n",
      "      Successfully uninstalled matplotlib-3.5.1\n",
      "  Attempting uninstall: openai\n",
      "    Found existing installation: openai 0.27.0\n",
      "    Uninstalling openai-0.27.0:\n",
      "      Successfully uninstalled openai-0.27.0\n",
      "Successfully installed astor-0.8.1 contourpy-1.0.7 importlib-resources-5.12.0 matplotlib-3.7.1 openai-0.27.6 pandas-2.0.1 pandasai-0.2.0 python-dotenv-1.0.0\n"
     ]
    }
   ],
   "source": [
    "#pandas-ai\n",
    "!pip install pandasai"
   ]
  },
  {
   "cell_type": "code",
   "execution_count": 2,
   "id": "dec21c62",
   "metadata": {},
   "outputs": [
    {
     "name": "stderr",
     "output_type": "stream",
     "text": [
      "C:\\Users\\n72\\Anaconda3\\lib\\site-packages\\numpy\\_distributor_init.py:30: UserWarning: loaded more than 1 DLL from .libs:\n",
      "C:\\Users\\n72\\Anaconda3\\lib\\site-packages\\numpy\\.libs\\libopenblas.WCDJNK7YVMPZQ2ME2ZZHJJRJ3JIKNDB7.gfortran-win_amd64.dll\n",
      "C:\\Users\\n72\\Anaconda3\\lib\\site-packages\\numpy\\.libs\\libopenblas.XWYDX2IKJW2NMTWSFYNGFUWKQU3LYTCZ.gfortran-win_amd64.dll\n",
      "  warnings.warn(\"loaded more than 1 DLL from .libs:\"\n"
     ]
    }
   ],
   "source": [
    "import pandas as pd\n",
    "from pandasai import PandasAI"
   ]
  },
  {
   "cell_type": "code",
   "execution_count": 3,
   "id": "a7b51094",
   "metadata": {},
   "outputs": [],
   "source": [
    "from pandasai.llm.openai import OpenAI\n",
    "# OpenAI\n",
    "llm = OpenAI(api_token=\"*********************************\")"
   ]
  },
  {
   "cell_type": "code",
   "execution_count": 4,
   "id": "a6343c79",
   "metadata": {},
   "outputs": [],
   "source": [
    "# Sample DataFrame\n",
    "df = pd.DataFrame({\n",
    "    \"country\": [\"United States\", \"United Kingdom\", \"France\", \"Germany\", \"Italy\", \"Spain\", \"Canada\", \"Australia\", \"Japan\", \"China\"],\n",
    "    \"gdp\": [21400000, 2940000, 2830000, 3870000, 2160000, 1350000, 1780000, 1320000, 516000, 14000000],\n",
    "    \"happiness_index\": [7.3, 7.2, 6.5, 7.0, 6.0, 6.3, 7.3, 7.3, 5.9, 5.0]\n",
    "})"
   ]
  },
  {
   "cell_type": "code",
   "execution_count": 5,
   "id": "5cbc4f67",
   "metadata": {},
   "outputs": [
    {
     "data": {
      "text/html": [
       "<div>\n",
       "<style scoped>\n",
       "    .dataframe tbody tr th:only-of-type {\n",
       "        vertical-align: middle;\n",
       "    }\n",
       "\n",
       "    .dataframe tbody tr th {\n",
       "        vertical-align: top;\n",
       "    }\n",
       "\n",
       "    .dataframe thead th {\n",
       "        text-align: right;\n",
       "    }\n",
       "</style>\n",
       "<table border=\"1\" class=\"dataframe\">\n",
       "  <thead>\n",
       "    <tr style=\"text-align: right;\">\n",
       "      <th></th>\n",
       "      <th>country</th>\n",
       "      <th>gdp</th>\n",
       "      <th>happiness_index</th>\n",
       "    </tr>\n",
       "  </thead>\n",
       "  <tbody>\n",
       "    <tr>\n",
       "      <th>0</th>\n",
       "      <td>United States</td>\n",
       "      <td>21400000</td>\n",
       "      <td>7.3</td>\n",
       "    </tr>\n",
       "    <tr>\n",
       "      <th>1</th>\n",
       "      <td>United Kingdom</td>\n",
       "      <td>2940000</td>\n",
       "      <td>7.2</td>\n",
       "    </tr>\n",
       "    <tr>\n",
       "      <th>2</th>\n",
       "      <td>France</td>\n",
       "      <td>2830000</td>\n",
       "      <td>6.5</td>\n",
       "    </tr>\n",
       "    <tr>\n",
       "      <th>3</th>\n",
       "      <td>Germany</td>\n",
       "      <td>3870000</td>\n",
       "      <td>7.0</td>\n",
       "    </tr>\n",
       "    <tr>\n",
       "      <th>4</th>\n",
       "      <td>Italy</td>\n",
       "      <td>2160000</td>\n",
       "      <td>6.0</td>\n",
       "    </tr>\n",
       "    <tr>\n",
       "      <th>5</th>\n",
       "      <td>Spain</td>\n",
       "      <td>1350000</td>\n",
       "      <td>6.3</td>\n",
       "    </tr>\n",
       "    <tr>\n",
       "      <th>6</th>\n",
       "      <td>Canada</td>\n",
       "      <td>1780000</td>\n",
       "      <td>7.3</td>\n",
       "    </tr>\n",
       "    <tr>\n",
       "      <th>7</th>\n",
       "      <td>Australia</td>\n",
       "      <td>1320000</td>\n",
       "      <td>7.3</td>\n",
       "    </tr>\n",
       "    <tr>\n",
       "      <th>8</th>\n",
       "      <td>Japan</td>\n",
       "      <td>516000</td>\n",
       "      <td>5.9</td>\n",
       "    </tr>\n",
       "    <tr>\n",
       "      <th>9</th>\n",
       "      <td>China</td>\n",
       "      <td>14000000</td>\n",
       "      <td>5.0</td>\n",
       "    </tr>\n",
       "  </tbody>\n",
       "</table>\n",
       "</div>"
      ],
      "text/plain": [
       "          country       gdp  happiness_index\n",
       "0   United States  21400000              7.3\n",
       "1  United Kingdom   2940000              7.2\n",
       "2          France   2830000              6.5\n",
       "3         Germany   3870000              7.0\n",
       "4           Italy   2160000              6.0\n",
       "5           Spain   1350000              6.3\n",
       "6          Canada   1780000              7.3\n",
       "7       Australia   1320000              7.3\n",
       "8           Japan    516000              5.9\n",
       "9           China  14000000              5.0"
      ]
     },
     "execution_count": 5,
     "metadata": {},
     "output_type": "execute_result"
    }
   ],
   "source": [
    "df"
   ]
  },
  {
   "cell_type": "code",
   "execution_count": 6,
   "id": "aefeada0",
   "metadata": {},
   "outputs": [],
   "source": [
    "pandas_ai_oa = PandasAI(llm)"
   ]
  },
  {
   "cell_type": "code",
   "execution_count": 7,
   "id": "107abe28",
   "metadata": {},
   "outputs": [
    {
     "data": {
      "text/plain": [
       "'According to the data, the top 5 happiest countries are the United States, Canada, Australia, the United Kingdom, and Germany.'"
      ]
     },
     "execution_count": 7,
     "metadata": {},
     "output_type": "execute_result"
    }
   ],
   "source": [
    "pandas_ai_oa.run(df, prompt=\"Which are the 5 happiest countries?\")"
   ]
  },
  {
   "cell_type": "code",
   "execution_count": 8,
   "id": "254b5786",
   "metadata": {},
   "outputs": [
    {
     "data": {
      "text/plain": [
       "'has the lowest GDP in the dataframe.'"
      ]
     },
     "execution_count": 8,
     "metadata": {},
     "output_type": "execute_result"
    }
   ],
   "source": [
    "pandas_ai_oa.run(df, prompt=\"which country having lowest gdp in dataframe?\")"
   ]
  },
  {
   "cell_type": "code",
   "execution_count": 9,
   "id": "272d8315",
   "metadata": {},
   "outputs": [
    {
     "data": {
      "text/plain": [
       "'Based on the happiness index in the dataframe, the top 5 countries with the highest scores are United States, Canada, and Australia with a score of 7.3, followed by United Kingdom with a score of 7.2, and Germany with a score of 7.0.'"
      ]
     },
     "execution_count": 9,
     "metadata": {},
     "output_type": "execute_result"
    }
   ],
   "source": [
    "pandas_ai_oa.run(df, prompt=\"Give me highest top 5 happiness_index in dataframe.\")"
   ]
  },
  {
   "cell_type": "code",
   "execution_count": 10,
   "id": "cf38822d",
   "metadata": {},
   "outputs": [
    {
     "data": {
      "text/plain": [
       "'The top 5 countries with the highest GDP from the dataframe are the United States, China, Germany, United Kingdom, and France.'"
      ]
     },
     "execution_count": 10,
     "metadata": {},
     "output_type": "execute_result"
    }
   ],
   "source": [
    "pandas_ai_oa.run(df, prompt=\"Give me highest top 5 gdp country from dataframe.\")"
   ]
  },
  {
   "cell_type": "code",
   "execution_count": 11,
   "id": "70ddf58a",
   "metadata": {},
   "outputs": [
    {
     "data": {
      "text/plain": [
       "'Based on the data in the dataframe, the top 5 countries with the highest GDP are United States, China, Germany, United Kingdom, and France. The response is in a dataframe format.'"
      ]
     },
     "execution_count": 11,
     "metadata": {},
     "output_type": "execute_result"
    }
   ],
   "source": [
    "pandas_ai_oa.run(df, prompt=\"Give me highest top 5 gdp country from dataframe. give me response in dataframe only.\")"
   ]
  },
  {
   "cell_type": "code",
   "execution_count": null,
   "id": "cf67a93c",
   "metadata": {},
   "outputs": [],
   "source": []
  }
 ],
 "metadata": {
  "kernelspec": {
   "display_name": "Python 3 (ipykernel)",
   "language": "python",
   "name": "python3"
  },
  "language_info": {
   "codemirror_mode": {
    "name": "ipython",
    "version": 3
   },
   "file_extension": ".py",
   "mimetype": "text/x-python",
   "name": "python",
   "nbconvert_exporter": "python",
   "pygments_lexer": "ipython3",
   "version": "3.9.12"
  }
 },
 "nbformat": 4,
 "nbformat_minor": 5
}
